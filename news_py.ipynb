{
 "cells": [
  {
   "cell_type": "code",
   "execution_count": 5,
   "id": "7a5d385d",
   "metadata": {},
   "outputs": [],
   "source": [
    "import requests\n",
    "\n",
    "\n"
   ]
  },
  {
   "cell_type": "markdown",
   "id": "6ceda0c3",
   "metadata": {},
   "source": []
  },
  {
   "cell_type": "code",
   "execution_count": 8,
   "id": "a3fdb6e7",
   "metadata": {},
   "outputs": [],
   "source": [
    "data = requests.get(\"https://newsdata.io/api/1/news?apikey=pub_843c3c0503c349b7a84dc63981bf7a95&q=crypto&language=en\").json()"
   ]
  },
  {
   "cell_type": "code",
   "execution_count": 16,
   "id": "5b0c263c",
   "metadata": {},
   "outputs": [
    {
     "data": {
      "text/plain": [
       "{'article_id': '7f24b2725434aceb34c0393e21afad2d',\n",
       " 'title': 'Google and Tesla Earnings in Focus: Will Q2 Reports Reset the Risk Mood?',\n",
       " 'link': 'https://www.investing.com/analysis/google-and-tesla-earnings-in-focus-will-q2-reports-reset-the-risk-mood-200664149',\n",
       " 'keywords': ['nasdaq 100',\n",
       "  'us dollar swiss franc',\n",
       "  'new zealand dollar us dollar',\n",
       "  'us dollar japanese yen'],\n",
       " 'creator': ['MarketPulse'],\n",
       " 'description': \"Market Analysis by covering: US Dollar Japanese Yen, US Dollar Swiss Franc, New Zealand Dollar US Dollar, Nasdaq 100. Read 's Market Analysis on Investing.com\",\n",
       " 'content': 'ONLY AVAILABLE IN PAID PLANS',\n",
       " 'pubDate': '2025-07-23 04:56:00',\n",
       " 'pubDateTZ': 'UTC',\n",
       " 'image_url': 'https://i-invdn-com.investing.com/redesign/images/seo/v2/investingcom_analysis_og.jpg',\n",
       " 'video_url': None,\n",
       " 'source_id': 'investing_us',\n",
       " 'source_name': 'Investing Us',\n",
       " 'source_priority': 1205,\n",
       " 'source_url': 'https://www.investing.com',\n",
       " 'source_icon': 'https://n.bytvi.com/investing_us.jpg',\n",
       " 'language': 'english',\n",
       " 'country': ['united states of america'],\n",
       " 'category': ['business'],\n",
       " 'sentiment': 'ONLY AVAILABLE IN PROFESSIONAL AND CORPORATE PLANS',\n",
       " 'sentiment_stats': 'ONLY AVAILABLE IN PROFESSIONAL AND CORPORATE PLANS',\n",
       " 'ai_tag': 'ONLY AVAILABLE IN PROFESSIONAL AND CORPORATE PLANS',\n",
       " 'ai_region': 'ONLY AVAILABLE IN CORPORATE PLANS',\n",
       " 'ai_org': 'ONLY AVAILABLE IN CORPORATE PLANS',\n",
       " 'ai_summary': 'ONLY AVAILABLE IN PAID PLANS',\n",
       " 'ai_content': 'ONLY AVAILABLE IN PROFESSIONAL AND CORPORATE PLANS',\n",
       " 'duplicate': False}"
      ]
     },
     "execution_count": 16,
     "metadata": {},
     "output_type": "execute_result"
    }
   ],
   "source": [
    "data['results'][0]  # Display only the first 10 articles"
   ]
  },
  {
   "cell_type": "code",
   "execution_count": null,
   "id": "511e7ba9",
   "metadata": {},
   "outputs": [],
   "source": []
  }
 ],
 "metadata": {
  "kernelspec": {
   "display_name": "venv",
   "language": "python",
   "name": "python3"
  },
  "language_info": {
   "codemirror_mode": {
    "name": "ipython",
    "version": 3
   },
   "file_extension": ".py",
   "mimetype": "text/x-python",
   "name": "python",
   "nbconvert_exporter": "python",
   "pygments_lexer": "ipython3",
   "version": "3.12.3"
  }
 },
 "nbformat": 4,
 "nbformat_minor": 5
}
